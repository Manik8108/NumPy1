{
 "cells": [
  {
   "cell_type": "code",
   "execution_count": 1,
   "id": "f93c3225-2b16-4955-b6e7-3d843d5c005b",
   "metadata": {},
   "outputs": [],
   "source": [
    "1.#Create a NumPy array 'arr' of integers from 0 to 5 and print its data type.\n",
    "import numpy as np"
   ]
  },
  {
   "cell_type": "code",
   "execution_count": 2,
   "id": "819f4dc3-818c-4b3a-997b-b02e42f4672e",
   "metadata": {},
   "outputs": [],
   "source": [
    "list = [0,1,2,3,4,5]\n",
    "arr = np.array(list)"
   ]
  },
  {
   "cell_type": "code",
   "execution_count": 3,
   "id": "e5a296aa-1cd8-4da4-a7da-7b5841afbf9e",
   "metadata": {},
   "outputs": [
    {
     "data": {
      "text/plain": [
       "array([0, 1, 2, 3, 4, 5])"
      ]
     },
     "execution_count": 3,
     "metadata": {},
     "output_type": "execute_result"
    }
   ],
   "source": [
    "arr"
   ]
  },
  {
   "cell_type": "code",
   "execution_count": 5,
   "id": "1e46d52c-c32f-4ec2-80ae-f8ec73c619b5",
   "metadata": {},
   "outputs": [
    {
     "name": "stdout",
     "output_type": "stream",
     "text": [
      "int64\n"
     ]
    }
   ],
   "source": [
    "print(arr.dtype)"
   ]
  },
  {
   "cell_type": "code",
   "execution_count": 6,
   "id": "8ac7fd3e-d303-4995-bf26-960d065f16f7",
   "metadata": {},
   "outputs": [],
   "source": [
    "2.#Given a NumPy array 'arr', check if its data types is float64.\n",
    "arr = np.array([1.5,2.6,3.7])"
   ]
  },
  {
   "cell_type": "code",
   "execution_count": 7,
   "id": "aa0d3d83-d15e-4f57-8792-032b383008c5",
   "metadata": {},
   "outputs": [
    {
     "data": {
      "text/plain": [
       "array([1.5, 2.6, 3.7])"
      ]
     },
     "execution_count": 7,
     "metadata": {},
     "output_type": "execute_result"
    }
   ],
   "source": [
    "arr"
   ]
  },
  {
   "cell_type": "code",
   "execution_count": 8,
   "id": "d96b66c8-d951-481b-b837-7a0ab49da702",
   "metadata": {},
   "outputs": [
    {
     "name": "stdout",
     "output_type": "stream",
     "text": [
      "float64\n"
     ]
    }
   ],
   "source": [
    "print(arr.dtype)"
   ]
  },
  {
   "cell_type": "code",
   "execution_count": 3,
   "id": "57d455f8-7ad9-482c-b5f1-53144324a97a",
   "metadata": {},
   "outputs": [
    {
     "name": "stdout",
     "output_type": "stream",
     "text": [
      "[2. +3.j 5. -4.j 0.4+7.j]\n"
     ]
    }
   ],
   "source": [
    "3.#Create a NumPy array 'arr' with a data type of complex128 containing three complex numbers.\n",
    "import numpy as np\n",
    "complex_arr = np.array([2+3j,5-4j,0.4+7j],dtype= np.complex128)\n",
    "print(complex_arr)"
   ]
  },
  {
   "cell_type": "code",
   "execution_count": 4,
   "id": "d42b68f4-4a1e-4b87-885a-be15113d7619",
   "metadata": {},
   "outputs": [
    {
     "name": "stdout",
     "output_type": "stream",
     "text": [
      "complex128\n"
     ]
    }
   ],
   "source": [
    "print(complex_arr.dtype)"
   ]
  },
  {
   "cell_type": "code",
   "execution_count": 14,
   "id": "ab79b53f-e1a6-4be7-a776-3ed0e49d2216",
   "metadata": {},
   "outputs": [
    {
     "name": "stdout",
     "output_type": "stream",
     "text": [
      "<class 'numpy.float32'>\n"
     ]
    }
   ],
   "source": [
    "4.#Convert an existing NumPy array 'arr'of integers to float32 data type.\n",
    "import numpy as np\n",
    "array1= np.array([1,2,3,4,5])\n",
    "array1 = array1.astype(np.float32)\n",
    "print (type(array1[0]))"
   ]
  },
  {
   "cell_type": "code",
   "execution_count": 20,
   "id": "28f8bc6b-fb47-49c1-842e-a38043436a07",
   "metadata": {},
   "outputs": [
    {
     "name": "stdout",
     "output_type": "stream",
     "text": [
      "Original array:\n",
      " [1. 1. 1. 1.] \n",
      "\n",
      "type of original array:\n",
      " float64 \n",
      "\n",
      "type of modified array:\n",
      " float32 \n",
      "\n"
     ]
    }
   ],
   "source": [
    "5.#Given a NumPy array 'arr'with float64 data type,convert it to float32 to reduce decimal precision.\n",
    "import numpy as np\n",
    "arr = np.ones(4,dtype=\"float64\")\n",
    "print(\"Original array:\\n\",arr,\"\\n\")\n",
    "print(\"type of original array:\\n\",arr.dtype,\"\\n\")\n",
    "arr = np.float32(arr)\n",
    "print(\"type of modified array:\\n\",arr.dtype,\"\\n\")\n"
   ]
  },
  {
   "cell_type": "code",
   "execution_count": 2,
   "id": "c507b66e-e00b-490e-9ddd-c1b9fe3de09f",
   "metadata": {},
   "outputs": [
    {
     "name": "stdout",
     "output_type": "stream",
     "text": [
      "(2, 4)\n"
     ]
    }
   ],
   "source": [
    "6.#Write a function array_attributes that takes a numpy array as input and return its shape,size and data type.\n",
    "import numpy as np\n",
    "array1 = np.array([[1,2,3,4],[5,6,7,8]])\n",
    "print(array1.shape)"
   ]
  },
  {
   "cell_type": "code",
   "execution_count": 3,
   "id": "fea3e2b9-4297-477c-8ad3-ae230ef0ee9a",
   "metadata": {},
   "outputs": [
    {
     "name": "stdout",
     "output_type": "stream",
     "text": [
      "8\n"
     ]
    }
   ],
   "source": [
    "print(array1.size)"
   ]
  },
  {
   "cell_type": "code",
   "execution_count": 4,
   "id": "6356a6d1-278b-4782-a677-202d959b6359",
   "metadata": {},
   "outputs": [
    {
     "name": "stdout",
     "output_type": "stream",
     "text": [
      "int64\n"
     ]
    }
   ],
   "source": [
    "print(array1.dtype)"
   ]
  },
  {
   "cell_type": "code",
   "execution_count": 11,
   "id": "2c6495c2-ad43-438d-b344-1dd22816a3d0",
   "metadata": {},
   "outputs": [
    {
     "name": "stdout",
     "output_type": "stream",
     "text": [
      "2\n"
     ]
    }
   ],
   "source": [
    "7.#Write a function array_dimension that takes a numpy array as input and return its dimensionality.\n",
    "var = np.array([[3,5,6],[7,1,9]])\n",
    "print(np.ndim(var))"
   ]
  },
  {
   "cell_type": "code",
   "execution_count": 13,
   "id": "5bff5b3b-46b6-4249-9e73-af48e5c1e6c9",
   "metadata": {},
   "outputs": [
    {
     "name": "stdout",
     "output_type": "stream",
     "text": [
      "size of the array: 3\n",
      "item size of one array element in bytes: 8\n",
      "total size of numpy array in bytes: 24\n"
     ]
    }
   ],
   "source": [
    "8.#Design a function item_size_info that takes a numpy array as input and return the item size and the total size in bytes.\n",
    "x = np.array([50,60,80])\n",
    "print(\"size of the array:\",x.size)\n",
    "print(\"item size of one array element in bytes:\",x.itemsize)\n",
    "print(\"total size of numpy array in bytes:\",x.size * x.itemsize)"
   ]
  },
  {
   "cell_type": "code",
   "execution_count": 8,
   "id": "4f6eb1bf-6e59-4e97-80cf-937d1339bf9d",
   "metadata": {},
   "outputs": [],
   "source": [
    "11.#Create a function 'create_zeros_array' that takes an integer 'n' as input and returns a numpy array of zeros with n elements.\n",
    "import numpy as np\n",
    "create_zeros_array = np.zeros(6)"
   ]
  },
  {
   "cell_type": "code",
   "execution_count": 9,
   "id": "aa6430f8-c439-4202-bd1e-438788277349",
   "metadata": {},
   "outputs": [
    {
     "data": {
      "text/plain": [
       "array([0., 0., 0., 0., 0., 0.])"
      ]
     },
     "execution_count": 9,
     "metadata": {},
     "output_type": "execute_result"
    }
   ],
   "source": [
    "create_zeros_array"
   ]
  },
  {
   "cell_type": "code",
   "execution_count": 30,
   "id": "ba826f60-60f7-4148-bf11-d816237230b0",
   "metadata": {},
   "outputs": [],
   "source": [
    "12.#Create a function 'create_ones_matrix' that takes an integer 'rows' and 'cols' as inputs and generates a 2D numpy array filled with ones of size 'rows x cols'.\n",
    "def create_ones_matrix(rows,cols):\n",
    "    matrix = np.ones((2,2))\n",
    "    return matrix"
   ]
  },
  {
   "cell_type": "code",
   "execution_count": 31,
   "id": "36a7ae5d-6b43-47a2-b457-dc33f3f9f0f8",
   "metadata": {},
   "outputs": [
    {
     "name": "stdout",
     "output_type": "stream",
     "text": [
      "[[1. 1.]\n",
      " [1. 1.]]\n"
     ]
    }
   ],
   "source": [
    "print(create_ones_matrix(2,2))"
   ]
  },
  {
   "cell_type": "code",
   "execution_count": 32,
   "id": "16c9fa3c-dde2-49a3-8f15-6eb3faa283c4",
   "metadata": {},
   "outputs": [],
   "source": [
    "13.#Write a function 'generate_range_array' that takes three integers atart,stop and step as arguments and creates a numpy array with a range starting from 'start',ending at stop and with the specified step.\n",
    "import numpy as np\n",
    "generate_range_array = np.arange(1,10,3)"
   ]
  },
  {
   "cell_type": "code",
   "execution_count": 33,
   "id": "4647ead4-d897-4639-b4cd-4ba2e8007431",
   "metadata": {},
   "outputs": [
    {
     "data": {
      "text/plain": [
       "array([1, 4, 7])"
      ]
     },
     "execution_count": 33,
     "metadata": {},
     "output_type": "execute_result"
    }
   ],
   "source": [
    "generate_range_array"
   ]
  },
  {
   "cell_type": "code",
   "execution_count": 36,
   "id": "4d5f2e49-e368-41e9-b81c-a499aa2156c4",
   "metadata": {},
   "outputs": [],
   "source": [
    "14.#Design a function 'generate_linear_space'that takes two floats 'start','stop',and an integer 'num' as arguments and generate a numpy array with num equally spaced between start and stop(inclusive). \n",
    "generate_linear_space = np.linspace(start=2.5,stop=8.5, num = 4)"
   ]
  },
  {
   "cell_type": "code",
   "execution_count": 37,
   "id": "ec955f57-96b7-4710-84f6-0b07a8afc6bd",
   "metadata": {},
   "outputs": [
    {
     "data": {
      "text/plain": [
       "array([2.5, 4.5, 6.5, 8.5])"
      ]
     },
     "execution_count": 37,
     "metadata": {},
     "output_type": "execute_result"
    }
   ],
   "source": [
    "generate_linear_space"
   ]
  },
  {
   "cell_type": "code",
   "execution_count": 53,
   "id": "73abb30c-d539-46a5-a86d-659d7fe1ff8b",
   "metadata": {},
   "outputs": [],
   "source": [
    "15.#Create a function 'create_identity_matrix' that takes an integer 'n' as input and generates a square identity matrix of size 'n x n' using 'numpy.eye'.\n",
    "import numpy as np\n",
    "Identity_matrix = np.eye(2, dtype=int)"
   ]
  },
  {
   "cell_type": "code",
   "execution_count": 54,
   "id": "a92b7677-f0bf-4bb7-8225-9cb78d21c945",
   "metadata": {},
   "outputs": [
    {
     "data": {
      "text/plain": [
       "array([[1, 0],\n",
       "       [0, 1]])"
      ]
     },
     "execution_count": 54,
     "metadata": {},
     "output_type": "execute_result"
    }
   ],
   "source": [
    "Identity_matrix"
   ]
  },
  {
   "cell_type": "code",
   "execution_count": 55,
   "id": "da2278d8-c74d-4e9c-abc1-6dd6019419a9",
   "metadata": {},
   "outputs": [],
   "source": [
    "16.#Write a function that takes a python list and converts it into a numpy array.\n",
    "list = [1,2,3,4,5]\n",
    "arr = np.array(list)"
   ]
  },
  {
   "cell_type": "code",
   "execution_count": 56,
   "id": "0eff84a6-e560-42d8-995c-11818c69d863",
   "metadata": {},
   "outputs": [
    {
     "data": {
      "text/plain": [
       "array([1, 2, 3, 4, 5])"
      ]
     },
     "execution_count": 56,
     "metadata": {},
     "output_type": "execute_result"
    }
   ],
   "source": [
    "arr"
   ]
  },
  {
   "cell_type": "code",
   "execution_count": 3,
   "id": "11f0ec17-c7c2-47bc-b317-4d81402d4c36",
   "metadata": {
    "tags": []
   },
   "outputs": [
    {
     "name": "stdout",
     "output_type": "stream",
     "text": [
      "131806309124112\n",
      "131806309124112\n"
     ]
    }
   ],
   "source": [
    "17.#Create a numpy array and demonstrate the use of 'numpy.view' to create a new array object with the same data.\n",
    "import numpy as np\n",
    "x = np.array([3,4,5])\n",
    "y = np.empty(1,dtype = object)\n",
    "y[:]= [x]\n",
    "print(id(x))\n",
    "print(id(y[0]))"
   ]
  },
  {
   "cell_type": "code",
   "execution_count": 1,
   "id": "ae754b1c-45be-4498-849a-272444d2c2ec",
   "metadata": {},
   "outputs": [],
   "source": [
    "18.#Write a function that takes two numpy arrays and concatenates them along a specified axis.\n",
    "import numpy as np\n",
    "a = np.array([2,3,4])\n",
    "b = np.array([5,6,7])\n",
    "result = np.concatenate((a,b), axis = 0)"
   ]
  },
  {
   "cell_type": "code",
   "execution_count": 2,
   "id": "52456e20-e196-4391-9a69-e0d2a58874a0",
   "metadata": {},
   "outputs": [
    {
     "data": {
      "text/plain": [
       "array([2, 3, 4, 5, 6, 7])"
      ]
     },
     "execution_count": 2,
     "metadata": {},
     "output_type": "execute_result"
    }
   ],
   "source": [
    "result"
   ]
  },
  {
   "cell_type": "code",
   "execution_count": 4,
   "id": "45343eb4-d2d6-4d13-a429-7f21da870bc2",
   "metadata": {},
   "outputs": [],
   "source": [
    "19.#Create two numpy arrays with different shapes and concatenate them horizontally using 'numpy.concatenate'.  \n",
    "arr1 = np.array([[1,2,3],[4,5,6]])\n",
    "arr2 = np.array([[4,7],[3,8]])\n",
    "numpy_concatenate = np.hstack((arr1,arr2))"
   ]
  },
  {
   "cell_type": "code",
   "execution_count": 5,
   "id": "42e7b4aa-5115-47c9-8070-488119290906",
   "metadata": {},
   "outputs": [
    {
     "data": {
      "text/plain": [
       "array([[1, 2, 3, 4, 7],\n",
       "       [4, 5, 6, 3, 8]])"
      ]
     },
     "execution_count": 5,
     "metadata": {},
     "output_type": "execute_result"
    }
   ],
   "source": [
    "numpy_concatenate"
   ]
  },
  {
   "cell_type": "code",
   "execution_count": 6,
   "id": "f7370541-913f-494f-b519-1b6f25950f81",
   "metadata": {},
   "outputs": [],
   "source": [
    "20.#Write a function that vertically stacks multiple numpy arrays given as a list.\n",
    "a = np.array([[3,4,5],[5,6,7],[4,5,1]])\n",
    "b = np.array([[6,7,8],[2,4,8],[1,9,5]])\n",
    "c = np.array([[5,6,7],[3,4,1],[6,7,9]])\n",
    "result = np.vstack((a,b,c))"
   ]
  },
  {
   "cell_type": "code",
   "execution_count": 7,
   "id": "de91c8aa-97a2-45bc-8211-1ba8dcdae3d9",
   "metadata": {},
   "outputs": [
    {
     "data": {
      "text/plain": [
       "array([[3, 4, 5],\n",
       "       [5, 6, 7],\n",
       "       [4, 5, 1],\n",
       "       [6, 7, 8],\n",
       "       [2, 4, 8],\n",
       "       [1, 9, 5],\n",
       "       [5, 6, 7],\n",
       "       [3, 4, 1],\n",
       "       [6, 7, 9]])"
      ]
     },
     "execution_count": 7,
     "metadata": {},
     "output_type": "execute_result"
    }
   ],
   "source": [
    "result"
   ]
  },
  {
   "cell_type": "code",
   "execution_count": 8,
   "id": "6aa70f12-e6f1-4850-bbcf-7e81f7ff940f",
   "metadata": {},
   "outputs": [],
   "source": [
    "21.#Write a python function using numpy to create an array of integers within specified range(inclusive) with a given step size.\n",
    "import numpy as np\n",
    "array = np.arange(20,45)"
   ]
  },
  {
   "cell_type": "code",
   "execution_count": 9,
   "id": "9d13a450-98a7-4246-a6a8-1cf6da59064a",
   "metadata": {},
   "outputs": [
    {
     "data": {
      "text/plain": [
       "array([20, 21, 22, 23, 24, 25, 26, 27, 28, 29, 30, 31, 32, 33, 34, 35, 36,\n",
       "       37, 38, 39, 40, 41, 42, 43, 44])"
      ]
     },
     "execution_count": 9,
     "metadata": {},
     "output_type": "execute_result"
    }
   ],
   "source": [
    "array"
   ]
  },
  {
   "cell_type": "code",
   "execution_count": 10,
   "id": "7721d237-5f59-4350-a9e0-d2b11c5da8aa",
   "metadata": {},
   "outputs": [],
   "source": [
    "22.#Write a python function using numpy to generate an array of 10 equally spaced values between 0 an 1(incusive).\n",
    "array = np.linspace(0,1,10)"
   ]
  },
  {
   "cell_type": "code",
   "execution_count": 11,
   "id": "866cff3b-a7ac-491a-8c03-c7a4ae2c58dd",
   "metadata": {},
   "outputs": [
    {
     "data": {
      "text/plain": [
       "array([0.        , 0.11111111, 0.22222222, 0.33333333, 0.44444444,\n",
       "       0.55555556, 0.66666667, 0.77777778, 0.88888889, 1.        ])"
      ]
     },
     "execution_count": 11,
     "metadata": {},
     "output_type": "execute_result"
    }
   ],
   "source": [
    "array"
   ]
  },
  {
   "cell_type": "code",
   "execution_count": 12,
   "id": "c710c5cc-becb-44ae-8480-0a2b36d7c564",
   "metadata": {},
   "outputs": [
    {
     "name": "stderr",
     "output_type": "stream",
     "text": [
      "/opt/conda/lib/python3.10/site-packages/numpy/core/function_base.py:277: RuntimeWarning: overflow encountered in power\n",
      "  return _nx.power(base, y)\n"
     ]
    }
   ],
   "source": [
    "23.#Write a python function using numpy to create an array of 5 logarithmically spaces values between 0 and 1000(inclusive).\n",
    "arr = np.logspace(1,1000,num = 5)"
   ]
  },
  {
   "cell_type": "code",
   "execution_count": 13,
   "id": "bdceeb69-cb93-4a77-ba1c-8bd3a4814907",
   "metadata": {},
   "outputs": [
    {
     "data": {
      "text/plain": [
       "array([1.00000000e+001, 5.62341325e+250,             inf,             inf,\n",
       "                   inf])"
      ]
     },
     "execution_count": 13,
     "metadata": {},
     "output_type": "execute_result"
    }
   ],
   "source": [
    "arr"
   ]
  },
  {
   "cell_type": "code",
   "execution_count": 44,
   "id": "79c65584-612e-410e-bd62-e0caab34aeac",
   "metadata": {},
   "outputs": [
    {
     "name": "stdout",
     "output_type": "stream",
     "text": [
      "   random_no_1  random_no_2  random_no_3\n",
      "0           93            4           52\n",
      "1            3           22           93\n",
      "2           71           75           59\n",
      "3            7           97           35\n",
      "4            5           79            9\n"
     ]
    }
   ],
   "source": [
    "24.#Create a pandas DataFrame using a numpy array that contains 5 rows and 2 columns,where the  values are random integers between 1 and 100.\n",
    "import numpy as np\n",
    "import pandas as pd\n",
    "data = np.random.randint(1,100, size =(5,3))\n",
    "df = pd.DataFrame(data,columns=['random_no_1', 'random_no_2', 'random_no_3'])\n",
    "print(df)"
   ]
  },
  {
   "cell_type": "code",
   "execution_count": 15,
   "id": "e1b7c57f-b1b8-4ca8-aaa5-7d4d81b35c4c",
   "metadata": {},
   "outputs": [],
   "source": [
    "25.#Write a function that takes a DataFrame and replace all negative values in a specific column with zeros.Use numpy operations within tha pandas DataFrame.\n",
    "import pandas as pd\n",
    "df = pd.DataFrame({\"A\":[1,2,-3,4],\n",
    "                   \"B\":[-5,3,7,-8],\n",
    "                   \"C\":[2,-6,-1,9]})"
   ]
  },
  {
   "cell_type": "code",
   "execution_count": 16,
   "id": "df81b3e7-8b41-410e-a558-6030cdf5ac67",
   "metadata": {},
   "outputs": [
    {
     "data": {
      "text/html": [
       "<div>\n",
       "<style scoped>\n",
       "    .dataframe tbody tr th:only-of-type {\n",
       "        vertical-align: middle;\n",
       "    }\n",
       "\n",
       "    .dataframe tbody tr th {\n",
       "        vertical-align: top;\n",
       "    }\n",
       "\n",
       "    .dataframe thead th {\n",
       "        text-align: right;\n",
       "    }\n",
       "</style>\n",
       "<table border=\"1\" class=\"dataframe\">\n",
       "  <thead>\n",
       "    <tr style=\"text-align: right;\">\n",
       "      <th></th>\n",
       "      <th>A</th>\n",
       "      <th>B</th>\n",
       "      <th>C</th>\n",
       "    </tr>\n",
       "  </thead>\n",
       "  <tbody>\n",
       "    <tr>\n",
       "      <th>0</th>\n",
       "      <td>1</td>\n",
       "      <td>-5</td>\n",
       "      <td>2</td>\n",
       "    </tr>\n",
       "    <tr>\n",
       "      <th>1</th>\n",
       "      <td>2</td>\n",
       "      <td>3</td>\n",
       "      <td>-6</td>\n",
       "    </tr>\n",
       "    <tr>\n",
       "      <th>2</th>\n",
       "      <td>-3</td>\n",
       "      <td>7</td>\n",
       "      <td>-1</td>\n",
       "    </tr>\n",
       "    <tr>\n",
       "      <th>3</th>\n",
       "      <td>4</td>\n",
       "      <td>-8</td>\n",
       "      <td>9</td>\n",
       "    </tr>\n",
       "  </tbody>\n",
       "</table>\n",
       "</div>"
      ],
      "text/plain": [
       "   A  B  C\n",
       "0  1 -5  2\n",
       "1  2  3 -6\n",
       "2 -3  7 -1\n",
       "3  4 -8  9"
      ]
     },
     "execution_count": 16,
     "metadata": {},
     "output_type": "execute_result"
    }
   ],
   "source": [
    "df"
   ]
  },
  {
   "cell_type": "code",
   "execution_count": 17,
   "id": "04331e88-4008-4c96-a33f-6e7917fa18dd",
   "metadata": {},
   "outputs": [],
   "source": [
    "df[df<0]=0"
   ]
  },
  {
   "cell_type": "code",
   "execution_count": 18,
   "id": "52eb9965-aa71-4410-b91a-ea1b1ec7e19d",
   "metadata": {},
   "outputs": [
    {
     "data": {
      "text/html": [
       "<div>\n",
       "<style scoped>\n",
       "    .dataframe tbody tr th:only-of-type {\n",
       "        vertical-align: middle;\n",
       "    }\n",
       "\n",
       "    .dataframe tbody tr th {\n",
       "        vertical-align: top;\n",
       "    }\n",
       "\n",
       "    .dataframe thead th {\n",
       "        text-align: right;\n",
       "    }\n",
       "</style>\n",
       "<table border=\"1\" class=\"dataframe\">\n",
       "  <thead>\n",
       "    <tr style=\"text-align: right;\">\n",
       "      <th></th>\n",
       "      <th>A</th>\n",
       "      <th>B</th>\n",
       "      <th>C</th>\n",
       "    </tr>\n",
       "  </thead>\n",
       "  <tbody>\n",
       "    <tr>\n",
       "      <th>0</th>\n",
       "      <td>1</td>\n",
       "      <td>0</td>\n",
       "      <td>2</td>\n",
       "    </tr>\n",
       "    <tr>\n",
       "      <th>1</th>\n",
       "      <td>2</td>\n",
       "      <td>3</td>\n",
       "      <td>0</td>\n",
       "    </tr>\n",
       "    <tr>\n",
       "      <th>2</th>\n",
       "      <td>0</td>\n",
       "      <td>7</td>\n",
       "      <td>0</td>\n",
       "    </tr>\n",
       "    <tr>\n",
       "      <th>3</th>\n",
       "      <td>4</td>\n",
       "      <td>0</td>\n",
       "      <td>9</td>\n",
       "    </tr>\n",
       "  </tbody>\n",
       "</table>\n",
       "</div>"
      ],
      "text/plain": [
       "   A  B  C\n",
       "0  1  0  2\n",
       "1  2  3  0\n",
       "2  0  7  0\n",
       "3  4  0  9"
      ]
     },
     "execution_count": 18,
     "metadata": {},
     "output_type": "execute_result"
    }
   ],
   "source": [
    "df"
   ]
  },
  {
   "cell_type": "code",
   "execution_count": 20,
   "id": "20a05952-cf30-4807-af9d-5018ead80cef",
   "metadata": {},
   "outputs": [],
   "source": [
    "26.#Access the 3rd element from the given numpy array. \n",
    "arr = np.array([10,20,30,40,50])"
   ]
  },
  {
   "cell_type": "code",
   "execution_count": 21,
   "id": "105970ae-187d-4d1e-a25d-f4579b29a918",
   "metadata": {},
   "outputs": [
    {
     "data": {
      "text/plain": [
       "30"
      ]
     },
     "execution_count": 21,
     "metadata": {},
     "output_type": "execute_result"
    }
   ],
   "source": [
    "arr[2]"
   ]
  },
  {
   "cell_type": "code",
   "execution_count": 22,
   "id": "bdfbe68b-26bf-4216-928f-316668451063",
   "metadata": {},
   "outputs": [],
   "source": [
    "27.#Retrieve the element at index(1,2) from the 2D numpy array.\n",
    "arr_2d = np.array([[1,2,3],\n",
    "                   [4,5,6],\n",
    "                   [7,8,9]])"
   ]
  },
  {
   "cell_type": "code",
   "execution_count": 23,
   "id": "cb7d2932-a4a4-42d0-ba23-a6fc6831f184",
   "metadata": {},
   "outputs": [
    {
     "data": {
      "text/plain": [
       "array([[4, 5, 6],\n",
       "       [7, 8, 9]])"
      ]
     },
     "execution_count": 23,
     "metadata": {},
     "output_type": "execute_result"
    }
   ],
   "source": [
    "arr_2d[1:3]"
   ]
  },
  {
   "cell_type": "code",
   "execution_count": 24,
   "id": "8784f134-a9a3-4f9b-9dfb-48eb0590d6f6",
   "metadata": {},
   "outputs": [],
   "source": [
    "28.#Using boolean indexing, extract elements greater than 5 from the given numpy array.\n",
    "arr = np.array([3,8,2,10,5,7])"
   ]
  },
  {
   "cell_type": "code",
   "execution_count": 25,
   "id": "cb43e4fb-515d-458d-97d8-d6985f2990c4",
   "metadata": {},
   "outputs": [],
   "source": [
    "boolean_index = arr > 5"
   ]
  },
  {
   "cell_type": "code",
   "execution_count": 26,
   "id": "25d0b4c0-0275-41f8-aef7-42ec7b878c21",
   "metadata": {},
   "outputs": [
    {
     "data": {
      "text/plain": [
       "array([False,  True, False,  True, False,  True])"
      ]
     },
     "execution_count": 26,
     "metadata": {},
     "output_type": "execute_result"
    }
   ],
   "source": [
    "boolean_index"
   ]
  },
  {
   "cell_type": "code",
   "execution_count": 27,
   "id": "363d50a3-7567-4c5f-abcf-484dde595dfc",
   "metadata": {},
   "outputs": [],
   "source": [
    "29.#Perform basic slicing to extract elements from index 2 to 5(inclusive) from the given numpy array.\n",
    "import numpy as np\n",
    "arr = np.array([1,2,3,4,5,6,7,8,9])"
   ]
  },
  {
   "cell_type": "code",
   "execution_count": 28,
   "id": "ef23e660-a6cb-42d4-aef5-c5049e5f1094",
   "metadata": {},
   "outputs": [
    {
     "data": {
      "text/plain": [
       "array([3, 4, 5, 6])"
      ]
     },
     "execution_count": 28,
     "metadata": {},
     "output_type": "execute_result"
    }
   ],
   "source": [
    "arr[2:6]"
   ]
  },
  {
   "cell_type": "code",
   "execution_count": 29,
   "id": "8a3784da-3f98-4e2f-ad32-8cbae79ac1f5",
   "metadata": {},
   "outputs": [],
   "source": [
    "30.#Slice the 2D numpy array to extract the sub-array[[2,3].[5,6]] from the given array.\n",
    "arr_2d = np.array([[1,2,3],\n",
    "                  [4,5,6],\n",
    "                  [7,8,9]])"
   ]
  },
  {
   "cell_type": "code",
   "execution_count": 30,
   "id": "7c8d06c3-1a8a-4052-98f6-065b4c2fdf18",
   "metadata": {},
   "outputs": [
    {
     "data": {
      "text/plain": [
       "array([[2, 3],\n",
       "       [5, 6]])"
      ]
     },
     "execution_count": 30,
     "metadata": {},
     "output_type": "execute_result"
    }
   ],
   "source": [
    "arr_2d[0:2,[1,2]]"
   ]
  },
  {
   "cell_type": "code",
   "execution_count": 34,
   "id": "8c7eb51a-fa02-40e4-914c-8a50a3d3df77",
   "metadata": {},
   "outputs": [],
   "source": [
    "36.#Given an array arr of shape(3,3),add a scalar value of 5 to each element using numpy broadcasting.\n",
    "import numpy as np\n",
    "arr = np.array([[5,6,7],\n",
    "               [3,5,1],\n",
    "               [4,1,2]])\n",
    "scalar = 5\n",
    "res = arr+scalar"
   ]
  },
  {
   "cell_type": "code",
   "execution_count": 35,
   "id": "705d285b-f8a5-47d1-9708-95704a07af74",
   "metadata": {},
   "outputs": [
    {
     "data": {
      "text/plain": [
       "array([[10, 11, 12],\n",
       "       [ 8, 10,  6],\n",
       "       [ 9,  6,  7]])"
      ]
     },
     "execution_count": 35,
     "metadata": {},
     "output_type": "execute_result"
    }
   ],
   "source": [
    "res"
   ]
  },
  {
   "cell_type": "code",
   "execution_count": 33,
   "id": "ec432541-28b5-4da2-81e1-33efcdc69753",
   "metadata": {},
   "outputs": [
    {
     "ename": "ValueError",
     "evalue": "operands could not be broadcast together with shapes (3,4) (3,) ",
     "output_type": "error",
     "traceback": [
      "\u001b[0;31m---------------------------------------------------------------------------\u001b[0m",
      "\u001b[0;31mValueError\u001b[0m                                Traceback (most recent call last)",
      "Cell \u001b[0;32mIn[33], line 6\u001b[0m\n\u001b[1;32m      2\u001b[0m arr1 \u001b[38;5;241m=\u001b[39m np\u001b[38;5;241m.\u001b[39marray([\u001b[38;5;241m3\u001b[39m,\u001b[38;5;241m5\u001b[39m,\u001b[38;5;241m7\u001b[39m])\n\u001b[1;32m      3\u001b[0m arr2 \u001b[38;5;241m=\u001b[39m np\u001b[38;5;241m.\u001b[39marray([[\u001b[38;5;241m2\u001b[39m,\u001b[38;5;241m3\u001b[39m,\u001b[38;5;241m4\u001b[39m,\u001b[38;5;241m5\u001b[39m],\n\u001b[1;32m      4\u001b[0m                 [\u001b[38;5;241m1\u001b[39m,\u001b[38;5;241m4\u001b[39m,\u001b[38;5;241m6\u001b[39m,\u001b[38;5;241m7\u001b[39m],\n\u001b[1;32m      5\u001b[0m                 [\u001b[38;5;241m6\u001b[39m,\u001b[38;5;241m8\u001b[39m,\u001b[38;5;241m9\u001b[39m,\u001b[38;5;241m0\u001b[39m]])\n\u001b[0;32m----> 6\u001b[0m result \u001b[38;5;241m=\u001b[39m \u001b[43marr2\u001b[49m\u001b[38;5;241;43m*\u001b[39;49m\u001b[43marr1\u001b[49m\n",
      "\u001b[0;31mValueError\u001b[0m: operands could not be broadcast together with shapes (3,4) (3,) "
     ]
    }
   ],
   "source": [
    "37.#Consider two arraya arr1 of shape(1,3) and arr2 of shape(3,4).Multiplyeach row of arr2 by the corresponding element in arr1 using numpy broadcasting.\n",
    "arr1 = np.array([3,5,7])\n",
    "arr2 = np.array([[2,3,4,5],\n",
    "                [1,4,6,7],\n",
    "                [6,8,9,0]])\n",
    "result = arr2*arr1"
   ]
  },
  {
   "cell_type": "code",
   "execution_count": 36,
   "id": "a328e807-1fa0-4b52-83b9-92a74c370e2e",
   "metadata": {},
   "outputs": [
    {
     "ename": "ValueError",
     "evalue": "operands could not be broadcast together with shapes (4,) (4,3) ",
     "output_type": "error",
     "traceback": [
      "\u001b[0;31m---------------------------------------------------------------------------\u001b[0m",
      "\u001b[0;31mValueError\u001b[0m                                Traceback (most recent call last)",
      "Cell \u001b[0;32mIn[36], line 8\u001b[0m\n\u001b[1;32m      3\u001b[0m arr1 \u001b[38;5;241m=\u001b[39m np\u001b[38;5;241m.\u001b[39marray([\u001b[38;5;241m2\u001b[39m,\u001b[38;5;241m3\u001b[39m,\u001b[38;5;241m4\u001b[39m,\u001b[38;5;241m5\u001b[39m])\n\u001b[1;32m      4\u001b[0m arr2 \u001b[38;5;241m=\u001b[39m np\u001b[38;5;241m.\u001b[39marray([[\u001b[38;5;241m4\u001b[39m,\u001b[38;5;241m5\u001b[39m,\u001b[38;5;241m6\u001b[39m],\n\u001b[1;32m      5\u001b[0m                  [\u001b[38;5;241m3\u001b[39m,\u001b[38;5;241m2\u001b[39m,\u001b[38;5;241m6\u001b[39m],\n\u001b[1;32m      6\u001b[0m                  [\u001b[38;5;241m1\u001b[39m,\u001b[38;5;241m6\u001b[39m,\u001b[38;5;241m8\u001b[39m],\n\u001b[1;32m      7\u001b[0m                  [\u001b[38;5;241m5\u001b[39m,\u001b[38;5;241m8\u001b[39m,\u001b[38;5;241m9\u001b[39m]])\n\u001b[0;32m----> 8\u001b[0m add \u001b[38;5;241m=\u001b[39m \u001b[43marr1\u001b[49m\u001b[38;5;241;43m+\u001b[39;49m\u001b[43marr2\u001b[49m\n",
      "\u001b[0;31mValueError\u001b[0m: operands could not be broadcast together with shapes (4,) (4,3) "
     ]
    }
   ],
   "source": [
    "38.#Given a 1D array arr1 of shape(1,4) and a 2D array arr2 of shape(4,3) add arr1 to each row of arr2 using numpy broadcasting.\n",
    "import numpy as np\n",
    "arr1 = np.array([2,3,4,5])\n",
    "arr2 = np.array([[4,5,6],\n",
    "                 [3,2,6],\n",
    "                 [1,6,8],\n",
    "                 [5,8,9]])\n",
    "add = arr1+arr2"
   ]
  },
  {
   "cell_type": "code",
   "execution_count": 39,
   "id": "8e33de49-bec5-4a16-b066-bfd65841546a",
   "metadata": {},
   "outputs": [
    {
     "data": {
      "text/plain": [
       "array([2.5, 3.5, 4.5])"
      ]
     },
     "execution_count": 39,
     "metadata": {},
     "output_type": "execute_result"
    }
   ],
   "source": [
    "41.#Calculate column_wise mean for the given array.\n",
    "arr = np.array([[1,2,3],[4,5,6]])\n",
    "arr.mean(axis =0)"
   ]
  },
  {
   "cell_type": "code",
   "execution_count": 40,
   "id": "6a35a376-d7dc-4c5b-8b1d-47014448bf20",
   "metadata": {},
   "outputs": [
    {
     "data": {
      "text/plain": [
       "array([3, 6])"
      ]
     },
     "execution_count": 40,
     "metadata": {},
     "output_type": "execute_result"
    }
   ],
   "source": [
    "42.#Find maximum value in each row of the given array.\n",
    "arr = np.array([[1,2,3],[4,5,6]])\n",
    "np.max(arr,1)"
   ]
  },
  {
   "cell_type": "code",
   "execution_count": 46,
   "id": "e20af8a5-e4f3-4a09-817e-5d9d0bb1efa4",
   "metadata": {},
   "outputs": [
    {
     "data": {
      "text/plain": [
       "array([4, 5, 6])"
      ]
     },
     "execution_count": 46,
     "metadata": {},
     "output_type": "execute_result"
    }
   ],
   "source": [
    "43.#For the given array, find indices of maximum value in each column.\n",
    "arr = np.array([[1,2,3],[4,5,6]])\n",
    "np.max(arr,0)"
   ]
  },
  {
   "cell_type": "code",
   "execution_count": null,
   "id": "1182e6ab-2a42-4718-a2a3-564f44557eab",
   "metadata": {},
   "outputs": [],
   "source": []
  }
 ],
 "metadata": {
  "kernelspec": {
   "display_name": "Python 3 (ipykernel)",
   "language": "python",
   "name": "python3"
  },
  "language_info": {
   "codemirror_mode": {
    "name": "ipython",
    "version": 3
   },
   "file_extension": ".py",
   "mimetype": "text/x-python",
   "name": "python",
   "nbconvert_exporter": "python",
   "pygments_lexer": "ipython3",
   "version": "3.10.8"
  }
 },
 "nbformat": 4,
 "nbformat_minor": 5
}
